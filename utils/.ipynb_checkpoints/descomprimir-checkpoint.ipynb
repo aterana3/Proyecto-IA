{
 "cells": [
  {
   "cell_type": "code",
   "execution_count": null,
   "id": "ebaa3cd9-015b-40d7-8164-3812a0e005b0",
   "metadata": {},
   "outputs": [],
   "source": [
    "import zipfile\n",
    "import os\n",
    "\n",
    "# Nombre exacto del archivo zip\n",
    "zip_path = 'Banana Ripeness Classification Dataset V2.zip'\n",
    "\n",
    "# Carpeta raíz dentro del zip que quieres extraer\n",
    "carpeta_a_extraer = 'Banana Ripeness Classification Dataset V2/'\n",
    "\n",
    "# Directorio de destino (actual)\n",
    "destino = '.'\n",
    "\n",
    "with zipfile.ZipFile(zip_path, 'r') as zip_ref:\n",
    "    # Lista todos los archivos dentro del ZIP que empiecen con esa carpeta\n",
    "    archivos_a_extraer = [f for f in zip_ref.namelist() if f.startswith(carpeta_a_extraer)]\n",
    "\n",
    "    # Extrae solo esos archivos\n",
    "    for archivo in archivos_a_extraer:\n",
    "        zip_ref.extract(archivo, path=destino)\n",
    "\n",
    "print(f\"✅ Carpeta '{carpeta_a_extraer}' descomprimida en '{os.path.abspath(destino)}'\")\n"
   ]
  }
 ],
 "metadata": {
  "kernelspec": {
   "display_name": "Python 3 (ipykernel)",
   "language": "python",
   "name": "python3"
  },
  "language_info": {
   "codemirror_mode": {
    "name": "ipython",
    "version": 3
   },
   "file_extension": ".py",
   "mimetype": "text/x-python",
   "name": "python",
   "nbconvert_exporter": "python",
   "pygments_lexer": "ipython3",
   "version": "3.11.7"
  }
 },
 "nbformat": 4,
 "nbformat_minor": 5
}
